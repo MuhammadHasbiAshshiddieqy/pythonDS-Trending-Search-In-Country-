{
  "nbformat": 4,
  "nbformat_minor": 0,
  "metadata": {
    "colab": {
      "name": "Trending Search.ipynb",
      "provenance": []
    },
    "kernelspec": {
      "name": "python3",
      "display_name": "Python 3"
    }
  },
  "cells": [
    {
      "cell_type": "code",
      "metadata": {
        "id": "jLuaCnESdQFJ",
        "colab_type": "code",
        "outputId": "95e4b723-e053-43e8-f8b8-d861ecffef67",
        "colab": {
          "base_uri": "https://localhost:8080/",
          "height": 225
        }
      },
      "source": [
        "!pip install pytrends"
      ],
      "execution_count": 58,
      "outputs": [
        {
          "output_type": "stream",
          "text": [
            "Requirement already satisfied: pytrends in /usr/local/lib/python3.6/dist-packages (4.7.2)\n",
            "Requirement already satisfied: requests in /usr/local/lib/python3.6/dist-packages (from pytrends) (2.21.0)\n",
            "Requirement already satisfied: lxml in /usr/local/lib/python3.6/dist-packages (from pytrends) (4.2.6)\n",
            "Requirement already satisfied: pandas in /usr/local/lib/python3.6/dist-packages (from pytrends) (0.25.3)\n",
            "Requirement already satisfied: idna<2.9,>=2.5 in /usr/local/lib/python3.6/dist-packages (from requests->pytrends) (2.8)\n",
            "Requirement already satisfied: chardet<3.1.0,>=3.0.2 in /usr/local/lib/python3.6/dist-packages (from requests->pytrends) (3.0.4)\n",
            "Requirement already satisfied: urllib3<1.25,>=1.21.1 in /usr/local/lib/python3.6/dist-packages (from requests->pytrends) (1.24.3)\n",
            "Requirement already satisfied: certifi>=2017.4.17 in /usr/local/lib/python3.6/dist-packages (from requests->pytrends) (2019.11.28)\n",
            "Requirement already satisfied: python-dateutil>=2.6.1 in /usr/local/lib/python3.6/dist-packages (from pandas->pytrends) (2.8.1)\n",
            "Requirement already satisfied: numpy>=1.13.3 in /usr/local/lib/python3.6/dist-packages (from pandas->pytrends) (1.18.2)\n",
            "Requirement already satisfied: pytz>=2017.2 in /usr/local/lib/python3.6/dist-packages (from pandas->pytrends) (2018.9)\n",
            "Requirement already satisfied: six>=1.5 in /usr/local/lib/python3.6/dist-packages (from python-dateutil>=2.6.1->pandas->pytrends) (1.12.0)\n"
          ],
          "name": "stdout"
        }
      ]
    },
    {
      "cell_type": "code",
      "metadata": {
        "id": "j6Q1rfi9fSL2",
        "colab_type": "code",
        "outputId": "c29268a2-9d20-4f0a-c992-9fb47ee84c6b",
        "colab": {
          "base_uri": "https://localhost:8080/",
          "height": 35
        }
      },
      "source": [
        "!pip install pycountry"
      ],
      "execution_count": 59,
      "outputs": [
        {
          "output_type": "stream",
          "text": [
            "Requirement already satisfied: pycountry in /usr/local/lib/python3.6/dist-packages (19.8.18)\n"
          ],
          "name": "stdout"
        }
      ]
    },
    {
      "cell_type": "code",
      "metadata": {
        "id": "yqEXffeydFaU",
        "colab_type": "code",
        "colab": {}
      },
      "source": [
        "from pytrends.request import TrendReq\n",
        "import pycountry\n",
        "import matplotlib.pyplot as plt\n",
        "import seaborn as sns\n",
        "import pandas as pd"
      ],
      "execution_count": 0,
      "outputs": []
    },
    {
      "cell_type": "code",
      "metadata": {
        "id": "7LYmNvEhdfpP",
        "colab_type": "code",
        "colab": {}
      },
      "source": [
        "def plotPencarian(kunci, negara, awal, akhir):\n",
        "\tId = pycountry.countries.lookup(negara).alpha_2\n",
        "\tpytrends = TrendReq(hl='en-US', tz=360)\n",
        "\tpytrends.build_payload([kunci], cat=0, timeframe=awal+' '+akhir,  gprop='', geo=Id)    \n",
        "\tdf = pytrends.interest_over_time()        \n",
        "\t\n",
        "\tsns.set()\n",
        "\tdf['timestamp'] = pd.to_datetime(df.index)\n",
        "\tsns.lineplot(df['timestamp'], df[kunci])\n",
        "\t\n",
        "\tplt.title(\"Pencarian Ternormalisasi Untuk \"+ kunci +\" Pada Negara \"+ negara)\n",
        "\tplt.ylabel(\"Jumlah Pencarian\")\n",
        "\tplt.xlabel(\"Tanggal\")\n",
        "\tplt.show()"
      ],
      "execution_count": 0,
      "outputs": []
    },
    {
      "cell_type": "code",
      "metadata": {
        "id": "TIFrnojki5Ha",
        "colab_type": "code",
        "colab": {}
      },
      "source": [
        "def main():\n",
        "\tkunci = input('Masukkan kata kunci pencarian : ')\n",
        "\tnegara = input('Masukkan 2 huruf kode negara : ')\n",
        "\tawal = input('Masukkan tanggal mulai (TTTT-BB-HH) : ')\n",
        "\takhir = input('Masukkan tanggal mulai (TTTT-BB-HH) : ')\n",
        "\tprint(\"\\n\\n\")\n",
        "\tplotPencarian(kunci.strip(),negara.strip(),awal.strip(),akhir.strip())"
      ],
      "execution_count": 0,
      "outputs": []
    },
    {
      "cell_type": "code",
      "metadata": {
        "id": "CyD5U5lri-nB",
        "colab_type": "code",
        "colab": {
          "base_uri": "https://localhost:8080/",
          "height": 423
        },
        "outputId": "44ffe5f9-9d0c-4e65-b5f5-d8c7e6545095"
      },
      "source": [
        "main()"
      ],
      "execution_count": 132,
      "outputs": [
        {
          "output_type": "stream",
          "text": [
            "Masukkan kata kunci pencarian : corona\n",
            "Masukkan 2 huruf kode negara : indonesia\n",
            "Masukkan tanggal mulai (TTTT-BB-HH) : 2020-01-01\n",
            "Masukkan tanggal mulai (TTTT-BB-HH) : 2020-03-01\n",
            "\n",
            "\n",
            "\n"
          ],
          "name": "stdout"
        },
        {
          "output_type": "display_data",
          "data": {
            "image/png": "[encoded data removed]",
            "text/plain": [
              "<Figure size 432x288 with 1 Axes>"
            ]
          },
          "metadata": {
            "tags": []
          }
        }
      ]
    },
    {
      "cell_type": "code",
      "metadata": {
        "id": "9EfCsGO7CSmL",
        "colab_type": "code",
        "colab": {}
      },
      "source": [
        ""
      ],
      "execution_count": 0,
      "outputs": []
    }
  ]
}