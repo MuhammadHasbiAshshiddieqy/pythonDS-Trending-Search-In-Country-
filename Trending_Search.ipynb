{
  "nbformat": 4,
  "nbformat_minor": 0,
  "metadata": {
    "colab": {
      "name": "Trending Search.ipynb",
      "provenance": []
    },
    "kernelspec": {
      "name": "python3",
      "display_name": "Python 3"
    }
  },
  "cells": [
    {
      "cell_type": "code",
      "metadata": {
        "id": "jLuaCnESdQFJ",
        "colab_type": "code",
        "outputId": "54d9c3d2-9e38-4d99-b1e1-c9c0d39fb9f4",
        "colab": {
          "base_uri": "https://localhost:8080/",
          "height": 384
        }
      },
      "source": [
        "!pip install pytrends"
      ],
      "execution_count": 1,
      "outputs": [
        {
          "output_type": "stream",
          "text": [
            "Collecting pytrends\n",
            "  Downloading https://files.pythonhosted.org/packages/74/a4/c1b1242be7d31650c6d9128a776c753db18f0e83290aaea0dd80dd31374b/pytrends-4.7.2.tar.gz\n",
            "Requirement already satisfied: requests in /usr/local/lib/python3.6/dist-packages (from pytrends) (2.21.0)\n",
            "Requirement already satisfied: pandas in /usr/local/lib/python3.6/dist-packages (from pytrends) (0.25.3)\n",
            "Requirement already satisfied: lxml in /usr/local/lib/python3.6/dist-packages (from pytrends) (4.2.6)\n",
            "Requirement already satisfied: idna<2.9,>=2.5 in /usr/local/lib/python3.6/dist-packages (from requests->pytrends) (2.8)\n",
            "Requirement already satisfied: certifi>=2017.4.17 in /usr/local/lib/python3.6/dist-packages (from requests->pytrends) (2019.11.28)\n",
            "Requirement already satisfied: urllib3<1.25,>=1.21.1 in /usr/local/lib/python3.6/dist-packages (from requests->pytrends) (1.24.3)\n",
            "Requirement already satisfied: chardet<3.1.0,>=3.0.2 in /usr/local/lib/python3.6/dist-packages (from requests->pytrends) (3.0.4)\n",
            "Requirement already satisfied: numpy>=1.13.3 in /usr/local/lib/python3.6/dist-packages (from pandas->pytrends) (1.18.2)\n",
            "Requirement already satisfied: python-dateutil>=2.6.1 in /usr/local/lib/python3.6/dist-packages (from pandas->pytrends) (2.8.1)\n",
            "Requirement already satisfied: pytz>=2017.2 in /usr/local/lib/python3.6/dist-packages (from pandas->pytrends) (2018.9)\n",
            "Requirement already satisfied: six>=1.5 in /usr/local/lib/python3.6/dist-packages (from python-dateutil>=2.6.1->pandas->pytrends) (1.12.0)\n",
            "Building wheels for collected packages: pytrends\n",
            "  Building wheel for pytrends (setup.py) ... \u001b[?25l\u001b[?25hdone\n",
            "  Created wheel for pytrends: filename=pytrends-4.7.2-cp36-none-any.whl size=14261 sha256=22cc66f9b9e2fdbcb87f5dd0223595955e0954ed84c57f2f47bc7a2b8502852b\n",
            "  Stored in directory: /root/.cache/pip/wheels/64/ae/af/51d48fbbca0563036c6f80999b7ce3f097fa591fd165047baf\n",
            "Successfully built pytrends\n",
            "Installing collected packages: pytrends\n",
            "Successfully installed pytrends-4.7.2\n"
          ],
          "name": "stdout"
        }
      ]
    },
    {
      "cell_type": "code",
      "metadata": {
        "id": "j6Q1rfi9fSL2",
        "colab_type": "code",
        "outputId": "3e673372-bd84-43f6-c016-425e504c4dda",
        "colab": {
          "base_uri": "https://localhost:8080/",
          "height": 211
        }
      },
      "source": [
        "!pip install pycountry"
      ],
      "execution_count": 2,
      "outputs": [
        {
          "output_type": "stream",
          "text": [
            "Collecting pycountry\n",
            "\u001b[?25l  Downloading https://files.pythonhosted.org/packages/16/b6/154fe93072051d8ce7bf197690957b6d0ac9a21d51c9a1d05bd7c6fdb16f/pycountry-19.8.18.tar.gz (10.0MB)\n",
            "\u001b[K     |████████████████████████████████| 10.0MB 2.7MB/s \n",
            "\u001b[?25hBuilding wheels for collected packages: pycountry\n",
            "  Building wheel for pycountry (setup.py) ... \u001b[?25l\u001b[?25hdone\n",
            "  Created wheel for pycountry: filename=pycountry-19.8.18-py2.py3-none-any.whl size=10627361 sha256=5c9fe535c4e3c78e461a6e28e50205aa6b9e36158ebec89a0e33a501757f5f9c\n",
            "  Stored in directory: /root/.cache/pip/wheels/a2/98/bf/f0fa1c6bf8cf2cbdb750d583f84be51c2cd8272460b8b36bd3\n",
            "Successfully built pycountry\n",
            "Installing collected packages: pycountry\n",
            "Successfully installed pycountry-19.8.18\n"
          ],
          "name": "stdout"
        }
      ]
    },
    {
      "cell_type": "code",
      "metadata": {
        "id": "yqEXffeydFaU",
        "colab_type": "code",
        "colab": {}
      },
      "source": [
        "from pytrends.request import TrendReq\n",
        "import pycountry\n",
        "import matplotlib.pyplot as plt\n",
        "import seaborn as sns\n",
        "import pandas as pd\n",
        "\n",
        "%matplotlib inline"
      ],
      "execution_count": 0,
      "outputs": []
    },
    {
      "cell_type": "code",
      "metadata": {
        "id": "7LYmNvEhdfpP",
        "colab_type": "code",
        "colab": {}
      },
      "source": [
        "def plotPencarian(kunci, negara, awal, akhir):\n",
        "\tId = pycountry.countries.lookup(negara).alpha_2\n",
        "\tpytrends = TrendReq(hl='en-US', tz=360)\n",
        "\tpytrends.build_payload([kunci], cat=0, timeframe=awal+' '+akhir,  gprop='', geo=Id)    \n",
        "\tdf = pytrends.interest_over_time()        \n",
        "\t\n",
        "\tsns.set()\n",
        "\tdf['timestamp'] = pd.to_datetime(df.index)\n",
        "\tsns.lineplot(df['timestamp'], df[kunci])\n",
        "\t\n",
        "\tplt.title(\"Pencarian Ternormalisasi untuk \"+ kunci +\" pada Negara \"+ negara.title())\n",
        "\tplt.ylabel(\"Jumlah Pencarian\")\n",
        "\tplt.xlabel(\"Tanggal\")\n",
        "\tplt.show()"
      ],
      "execution_count": 0,
      "outputs": []
    },
    {
      "cell_type": "code",
      "metadata": {
        "id": "TIFrnojki5Ha",
        "colab_type": "code",
        "colab": {}
      },
      "source": [
        "def main():\n",
        "\tkunci = input('Masukkan kata kunci pencarian : ')\n",
        "\tnegara = input('Masukkan nama negara (ejaan bahasa Inggris) : ')\n",
        "\tawal = input('Masukkan tanggal awal (TTTT-BB-HH) : ')\n",
        "\takhir = input('Masukkan tanggal akhir (TTTT-BB-HH) : ')\n",
        "\tprint(\"\\n\\n\")\n",
        "\tplotPencarian(kunci.strip(),negara.strip(),awal.strip(),akhir.strip())"
      ],
      "execution_count": 0,
      "outputs": []
    },
    {
      "cell_type": "code",
      "metadata": {
        "id": "CyD5U5lri-nB",
        "colab_type": "code",
        "outputId": "accee19b-716d-4486-c00a-32f51f7a47b6",
        "colab": {
          "base_uri": "https://localhost:8080/",
          "height": 423
        }
      },
      "source": [
        "main()"
      ],
      "execution_count": 13,
      "outputs": [
        {
          "output_type": "stream",
          "text": [
            "Masukkan kata kunci pencarian : corona\n",
            "Masukkan nama negara (ejaan bahasa Inggris) : indonesia\n",
            "Masukkan tanggal awal (TTTT-BB-HH) : 2020-01-01\n",
            "Masukkan tanggal akhir (TTTT-BB-HH) : 2020-03-01\n",
            "\n",
            "\n",
            "\n"
          ],
          "name": "stdout"
        },
        {
          "output_type": "display_data",
          "data": {
            "image/png": "[encoded data removed]",
            "text/plain": [
              "<Figure size 432x288 with 1 Axes>"
            ]
          },
          "metadata": {
            "tags": []
          }
        }
      ]
    },
    {
      "cell_type": "code",
      "metadata": {
        "id": "9EfCsGO7CSmL",
        "colab_type": "code",
        "colab": {}
      },
      "source": [
        ""
      ],
      "execution_count": 0,
      "outputs": []
    }
  ]
}